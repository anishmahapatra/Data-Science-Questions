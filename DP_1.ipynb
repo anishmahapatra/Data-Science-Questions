{
  "nbformat": 4,
  "nbformat_minor": 0,
  "metadata": {
    "colab": {
      "name": "DP-1.ipynb",
      "provenance": [],
      "collapsed_sections": [],
      "authorship_tag": "ABX9TyNsThJ6LRSjnHl9SAy450gR",
      "include_colab_link": true
    },
    "kernelspec": {
      "name": "python3",
      "display_name": "Python 3"
    },
    "language_info": {
      "name": "python"
    }
  },
  "cells": [
    {
      "cell_type": "markdown",
      "metadata": {
        "id": "view-in-github",
        "colab_type": "text"
      },
      "source": [
        "<a href=\"https://colab.research.google.com/github/anishmahapatra/Data-Science-Questions/blob/master/DP_1.ipynb\" target=\"_parent\"><img src=\"https://colab.research.google.com/assets/colab-badge.svg\" alt=\"Open In Colab\"/></a>"
      ]
    },
    {
      "cell_type": "markdown",
      "metadata": {
        "id": "LFYWBSrtHwf9"
      },
      "source": [
        "# PQ-2: Dynamic Programming\n",
        "Author: AM, PQ\n",
        "\n",
        "<b>Aim:</b> <br/>The purpose of this notebook is to understand and implement Advanced Data Structures\n"
      ]
    },
    {
      "cell_type": "markdown",
      "metadata": {
        "id": "ehtgAaMFH2Te"
      },
      "source": [
        "<a name=\"0\"></a>\n",
        "## Table of Contents\n",
        "\n",
        "1 [Min Steps to 1](#1) <br/>\n",
        "2 [Min Squares to represent N](#2) <br/>\n",
        "&nbsp;&nbsp;&nbsp;&nbsp;&nbsp;&nbsp;2.1 [Min Squares to represent N - Recursion](#2.1) <br/>\n",
        "&nbsp;&nbsp;&nbsp;&nbsp;&nbsp;&nbsp;2.2 [Min Squares to represent N - Memoization](#2.2) <br/>\n",
        "&nbsp;&nbsp;&nbsp;&nbsp;&nbsp;&nbsp;2.3 [Min Squares to represent N - Iterative](#2.3) <br/>\n",
        "3 [Longest Increasing Subsequence](#2) <br/>\n",
        "&nbsp;&nbsp;&nbsp;&nbsp;&nbsp;&nbsp;2.1 [LIS - Recursion](#2.1) <br/>\n",
        "&nbsp;&nbsp;&nbsp;&nbsp;&nbsp;&nbsp;2.2 [LIS - Memoization](#2.2) <br/>\n",
        "&nbsp;&nbsp;&nbsp;&nbsp;&nbsp;&nbsp;2.3 [LIS - Iterative](#2.3) <br/>"
      ]
    },
    {
      "cell_type": "markdown",
      "metadata": {
        "id": "4n0f1wNMoT7L"
      },
      "source": [
        "<a name=\"1\"></a>\n",
        "## 1 Min Steps to 1\n",
        "Back to [Table of Contents](#0)\n",
        "\n",
        "---\n"
      ]
    },
    {
      "cell_type": "code",
      "metadata": {
        "id": "goe8s-QYojUa"
      },
      "source": [
        ""
      ],
      "execution_count": 3,
      "outputs": []
    },
    {
      "cell_type": "code",
      "metadata": {
        "colab": {
          "base_uri": "https://localhost:8080/"
        },
        "id": "L92jt8KtsVah",
        "outputId": "6c8bee86-a11b-4a81-f93d-605bbe9dfabf"
      },
      "source": [
        ""
      ],
      "execution_count": 2,
      "outputs": [
        {
          "output_type": "stream",
          "text": [
            "3\n"
          ],
          "name": "stdout"
        }
      ]
    },
    {
      "cell_type": "markdown",
      "metadata": {
        "id": "K0lZO-KloYbK"
      },
      "source": [
        "<a name=\"2\"></a>\n",
        "## 2 Min Squares to represent N\n",
        "Back to [Table of Contents](#0)\n",
        "\n",
        "---\n"
      ]
    },
    {
      "cell_type": "markdown",
      "metadata": {
        "id": "mmFxiL28sax5"
      },
      "source": [
        "<a name=\"2.1\"></a>\n",
        "### 2.1 Min Squares to represent N - Recursion\n",
        "Back to [Table of Contents](#0)\n"
      ]
    },
    {
      "cell_type": "code",
      "metadata": {
        "colab": {
          "base_uri": "https://localhost:8080/"
        },
        "id": "yrxBy6JLsiVD",
        "outputId": "2cfe4090-e599-4899-cfba-697470350a75"
      },
      "source": [
        "# Python3 Program to implement\n",
        "# the above approach\n",
        "\n",
        "def find_sequence(n):\n",
        "\n",
        "    # Base Case\n",
        "    if n == 1:\n",
        "        return 1, -1\n",
        "\n",
        "    # Recursive Call for n-1\n",
        "    ans = (find_sequence(n - 1)[0] + 1, n - 1)\n",
        "\n",
        "    # Check if n is divisible by 2\n",
        "    if n % 2 == 0:\n",
        "        div_by_2 = find_sequence(n // 2)\n",
        "        if div_by_2[0] < ans[0]:\n",
        "            ans = (div_by_2[0] + 1, n // 2)\n",
        "\n",
        "    # Check if n is divisible by 3\n",
        "    if n % 3 == 0:\n",
        "        div_by_3 = find_sequence(n // 3)\n",
        "        if div_by_3[0] < ans[0]:\n",
        "            ans = (div_by_3[0] + 1, n // 3)\n",
        "\n",
        "    # Returns a tuple (a, b), where\n",
        "    # a: Minimum steps to obtain x from 1\n",
        "    # b: Previous number\n",
        "    return ans\n",
        "  \n",
        "# Function that find the optimal\n",
        "# solution\n",
        "\n",
        "def find_solution(n):\n",
        "    a, b = find_sequence(n)\n",
        "\n",
        "    # Print the length\n",
        "    print(a)\n",
        "    sequence = []\n",
        "    sequence.append(n)\n",
        "\n",
        "    # Exit condition for loop = -1\n",
        "    # when n has reached 1\n",
        "    while b != -1:\n",
        "        sequence.append(b)\n",
        "        _, b = find_sequence(b)\n",
        "\n",
        "    # Return the sequence\n",
        "    # in reverse order\n",
        "    return sequence[::-1]\n",
        " \n",
        "# Driver Code \n",
        "# Given N\n",
        "n = 5\n",
        " \n",
        "# Function Call\n",
        "print(*find_solution(n))"
      ],
      "execution_count": 13,
      "outputs": [
        {
          "output_type": "stream",
          "text": [
            "4\n",
            "1 2 4 5\n"
          ],
          "name": "stdout"
        }
      ]
    },
    {
      "cell_type": "markdown",
      "metadata": {
        "id": "T7e4bSPssi1I"
      },
      "source": [
        "<a name=\"2.2\"></a>\n",
        "### 2.2 Min Squares to represent N - Memoization\n",
        "Back to [Table of Contents](#0)\n"
      ]
    },
    {
      "cell_type": "code",
      "metadata": {
        "colab": {
          "base_uri": "https://localhost:8080/"
        },
        "id": "wk8wONNwojn8",
        "outputId": "cddc77e8-32b7-4fa6-a0c2-bf9648ba922a"
      },
      "source": [
        "# Python3 program to implement\n",
        "# the above approach\n",
        " \n",
        "# Function to find the sequence\n",
        "# with given operations\n",
        "\n",
        "def find_sequence(n, map):\n",
        "    # Base Case\n",
        "    if n == 1:\n",
        "        return 1, -1\n",
        "\n",
        "    # Check if the subproblem\n",
        "    # is already computed or not\n",
        "    if n in map:\n",
        "        return map[n]\n",
        " \n",
        "    # Recursive Call for n-1\n",
        "    ans = (find_sequence(n - 1, map)[0]\\\n",
        "    + 1, n - 1)\n",
        " \n",
        "    # Check if n is divisible by 2\n",
        "    if n % 2 == 0:\n",
        "        div_by_2 = find_sequence(n // 2, map)\n",
        "        if div_by_2[0] < ans[0]:\n",
        "            ans = (div_by_2[0] + 1, n // 2)\n",
        " \n",
        "    # Check if n is divisible by 3\n",
        "    if n % 3 == 0:\n",
        "        div_by_3 = find_sequence(n // 3, map)\n",
        "        if div_by_3[0] < ans[0]:\n",
        "            ans = (div_by_3[0] + 1, n // 3)\n",
        "\n",
        "    # Memoize\n",
        "    map[n] = ans\n",
        " \n",
        "    # Returns a tuple (a, b), where\n",
        "    # a: Minimum steps to obtain x from 1\n",
        "    # b: Previous state\n",
        "    return ans\n",
        " \n",
        "# Function to check if a sequence can\n",
        "# be obtained with given operations\n",
        "\n",
        "def find_solution(n):\n",
        "\n",
        "    # Stores the computed\n",
        "    # subproblems\n",
        "    map = {}\n",
        "    a, b = find_sequence(n, map)\n",
        "\n",
        "    # Return a sequence in\n",
        "    # reverse order\n",
        "    print(a)\n",
        "    sequence = []\n",
        "    sequence.append(n)\n",
        " \n",
        "    # If n has reached 1\n",
        "    while b != -1:\n",
        "        sequence.append(b)\n",
        "        _, b = find_sequence(b, map)\n",
        " \n",
        "    # Return sequence in reverse order\n",
        "    return sequence[::-1]\n",
        " \n",
        "# Driver Code \n",
        "# Given N\n",
        "n = 5\n",
        " \n",
        "# Function Call\n",
        "print(*find_solution(n))"
      ],
      "execution_count": 14,
      "outputs": [
        {
          "output_type": "stream",
          "text": [
            "4\n",
            "1 2 4 5\n"
          ],
          "name": "stdout"
        }
      ]
    },
    {
      "cell_type": "markdown",
      "metadata": {
        "id": "FFglKdpksj0a"
      },
      "source": [
        "<a name=\"2.3\"></a>\n",
        "### 2.3 Min Squares to represent N - Iterative\n",
        "Back to [Table of Contents](#0)\n"
      ]
    },
    {
      "cell_type": "code",
      "metadata": {
        "colab": {
          "base_uri": "https://localhost:8080/"
        },
        "id": "iWjid3EDrfIS",
        "outputId": "9bdfdbff-19cb-430b-fb47-eb313140fff2"
      },
      "source": [
        "# Python3 program to implement\n",
        "# the above approach\n",
        " \n",
        "# Function to generate \n",
        "# the minimum sequence\n",
        "\n",
        "def find_sequence(n):\n",
        "\n",
        "    # Stores the values for the\n",
        "    # minimum length of sequences\n",
        "    dp = [0 for _ in range(n + 1)]\n",
        " \n",
        "    # Base Case\n",
        "    dp[1] = 1\n",
        " \n",
        "\n",
        "    # Loop to build up the dp[]\n",
        "    # array from 1 to n\n",
        "\n",
        "    for i in range(1, n + 1):\n",
        "        if dp[i] != 0:\n",
        "\n",
        "            # If i + 1 is within limits\n",
        "            if i + 1 < n + 1 and (dp[i + 1] == 0 \\\n",
        "            or dp[i + 1] > dp[i] + 1):    \n",
        "\n",
        "                # Update the state of i + 1 \n",
        "                # in dp[] array to minimum\n",
        "                dp[i + 1] = dp[i] + 1\n",
        "\n",
        "            # If i * 2 is within limits\n",
        "            if i * 2 < n + 1 and (dp[i * 2] == 0 \\\n",
        "            or dp[i * 2] > dp[i] + 1):\n",
        "\n",
        "                # Update the state of i * 2\n",
        "                # in dp[] array to minimum\n",
        "                dp[i * 2] = dp[i] + 1\n",
        "\n",
        "            # If i * 3 is within limits\n",
        "            if i * 3 < n + 1 and (dp[i * 3] == 0 \\\n",
        "            or dp[i * 3] > dp[i] + 1):                 \n",
        "\n",
        "                # Update the state of i * 3\n",
        "                # in dp[] array to minimum\n",
        "                dp[i * 3] = dp[i] + 1\n",
        "\n",
        "    # Generate the sequence by\n",
        "    # traversing the array\n",
        "    sequence = []\n",
        "    while n >= 1:\n",
        "\n",
        "        # Append n to the sequence\n",
        "        sequence.append(n)\n",
        " \n",
        "        # If the value of n in dp\n",
        "        # is obtained from n - 1:\n",
        "        if dp[n - 1] == dp[n] - 1:\n",
        "            n = n - 1\n",
        "\n",
        "        # If the value of n in dp[]\n",
        "        # is obtained from n / 2:\n",
        "        elif n % 2 == 0 and dp[n // 2] == dp[n] - 1:\n",
        "            n = n // 2\n",
        "\n",
        "        # If the value of n in dp[]\n",
        "        # is obtained from n / 3:\n",
        "        elif n % 3 == 0 and dp[n // 3] == dp[n] - 1:\n",
        "            n = n // 3\n",
        "\n",
        "    # Return the sequence\n",
        "    # in reverse order\n",
        "    return sequence[::-1]\n",
        " \n",
        "# Driver Code\n",
        "# Given Number N\n",
        "n = 5\n",
        " \n",
        "# Function Call\n",
        "sequence = find_sequence(n)\n",
        " \n",
        "# Print the length of\n",
        "# the minimal sequence\n",
        "print(len(sequence))\n",
        " \n",
        "# Print the sequence\n",
        "print(*sequence)"
      ],
      "execution_count": 23,
      "outputs": [
        {
          "output_type": "stream",
          "text": [
            "4\n",
            "1 3 4 5\n"
          ],
          "name": "stdout"
        }
      ]
    },
    {
      "cell_type": "markdown",
      "metadata": {
        "id": "LiFcpPnbod6e"
      },
      "source": [
        "<a name=\"3\"></a>\n",
        "## 3 Longest increasing Subsequence (LIS)\n",
        "Back to [Table of Contents](#0)\n",
        "\n",
        "---\n"
      ]
    },
    {
      "cell_type": "code",
      "metadata": {
        "id": "-cya0gDMHpqE"
      },
      "source": [
        ""
      ],
      "execution_count": null,
      "outputs": []
    },
    {
      "cell_type": "markdown",
      "metadata": {
        "id": "wTqGQyy1OtFj"
      },
      "source": [
        "<a name=\"3.1\"></a>\n",
        "### 3.1 LIS - Recursion\n",
        "Back to [Table of Contents](#0)\n"
      ]
    },
    {
      "cell_type": "code",
      "metadata": {
        "colab": {
          "base_uri": "https://localhost:8080/"
        },
        "id": "Omj67lz9Ovus",
        "outputId": "82d69be2-9f06-4ab9-b072-f20ae9139190"
      },
      "source": [
        "# A naive Python implementation of LIS problem\n",
        " \n",
        "\"\"\" To make use of recursive calls, this function must return\n",
        " two things:\n",
        " 1) Length of LIS ending with element arr[n-1]. We use\n",
        " max_ending_here for this purpose\n",
        " 2) Overall maximum as the LIS may end with an element\n",
        " before arr[n-1] max_ref is used this purpose.\n",
        " The value of LIS of full array of size n is stored in\n",
        " *max_ref which is our final result \"\"\"\n",
        " \n",
        "# global variable to store the maximum\n",
        "global maximum\n",
        " \n",
        " \n",
        "def _lis(arr, n):\n",
        " \n",
        "    # to allow the access of global variable\n",
        "    global maximum\n",
        " \n",
        "    # Base Case\n",
        "    if n == 1:\n",
        "        return 1\n",
        " \n",
        "    # maxEndingHere is the length of LIS ending with arr[n-1]\n",
        "    maxEndingHere = 1\n",
        " \n",
        "    \"\"\"Recursively get all LIS ending with arr[0], arr[1]..arr[n-2]\n",
        "       IF arr[n-1] is maller than arr[n-1], and max ending with\n",
        "       arr[n-1] needs to be updated, then update it\"\"\"\n",
        "    for i in range(1, n):\n",
        "        res = _lis(arr, i)\n",
        "        if arr[i-1] < arr[n-1] and res+1 > maxEndingHere:\n",
        "            maxEndingHere = res + 1\n",
        " \n",
        "    # Compare maxEndingHere with overall maximum. And\n",
        "    # update the overall maximum if needed\n",
        "    maximum = max(maximum, maxEndingHere)\n",
        " \n",
        "    return maxEndingHere\n",
        " \n",
        " \n",
        "def lis(arr):\n",
        " \n",
        "    # to allow the access of global variable\n",
        "    global maximum\n",
        " \n",
        "    # lenght of arr\n",
        "    n = len(arr)\n",
        " \n",
        "    # maximum variable holds the result\n",
        "    maximum = 1\n",
        " \n",
        "    # The function _lis() stores its result in maximum\n",
        "    _lis(arr, n)\n",
        " \n",
        "    return maximum\n",
        " \n",
        " \n",
        "# Driver program to test the above function\n",
        "arr = [10, 22, 9, 33, 21, 50, 41, 60]\n",
        "n = len(arr)\n",
        "print (\"Length of lis is \", lis(arr))\n",
        " \n",
        "# This code is contributed by NIKHIL KUMAR SINGH"
      ],
      "execution_count": 26,
      "outputs": [
        {
          "output_type": "stream",
          "text": [
            "Length of lis is  5\n"
          ],
          "name": "stdout"
        }
      ]
    },
    {
      "cell_type": "markdown",
      "metadata": {
        "id": "9f80Kh8dOwQ0"
      },
      "source": [
        "<a name=\"3.2\"></a>\n",
        "### 3.2 LIS - Memoization - DP\n",
        "Back to [Table of Contents](#0)\n"
      ]
    },
    {
      "cell_type": "code",
      "metadata": {
        "colab": {
          "base_uri": "https://localhost:8080/"
        },
        "id": "i6sYpQmwOw9e",
        "outputId": "51564da4-5a30-4aff-857c-b853234acbed"
      },
      "source": [
        "# Dynamic programming Python implementation\n",
        "# of LIS problem\n",
        " \n",
        "# lis returns length of the longest\n",
        "# increasing subsequence in arr of size n\n",
        " \n",
        " \n",
        "def lis(arr):\n",
        "    n = len(arr)\n",
        " \n",
        "    # Declare the list (array) for LIS and\n",
        "    # initialize LIS values for all indexes\n",
        "    lis = [1]*n\n",
        " \n",
        "    # Compute optimized LIS values in bottom up manner\n",
        "    for i in range(1, n):\n",
        "        for j in range(0, i):\n",
        "            if arr[i] > arr[j] and lis[i] < lis[j] + 1:\n",
        "                lis[i] = lis[j]+1\n",
        " \n",
        "    # Initialize maximum to 0 to get\n",
        "    # the maximum of all LIS\n",
        "    maximum = 0\n",
        " \n",
        "    # Pick maximum of all LIS values\n",
        "    for i in range(n):\n",
        "        maximum = max(maximum, lis[i])\n",
        " \n",
        "    return maximum\n",
        "# end of lis function\n",
        " \n",
        " \n",
        "# Driver program to test above function\n",
        "arr = [10, 22, 9, 33, 21, 50, 41, 60]\n",
        "print (\"Length of lis is\", lis(arr))\n",
        "# This code is contributed by Nikhil Kumar Singh"
      ],
      "execution_count": 28,
      "outputs": [
        {
          "output_type": "stream",
          "text": [
            "Length of lis is 5\n"
          ],
          "name": "stdout"
        }
      ]
    },
    {
      "cell_type": "markdown",
      "metadata": {
        "id": "k_xNaHTjOxY6"
      },
      "source": [
        "<a name=\"3.3\"></a>\n",
        "### 3.3 LIS - Iterative\n",
        "Back to [Table of Contents](#0)\n"
      ]
    },
    {
      "cell_type": "code",
      "metadata": {
        "colab": {
          "base_uri": "https://localhost:8080/"
        },
        "id": "bTRU5R4nOxs0",
        "outputId": "446f45e4-6281-4c0d-ec31-d71621c237e9"
      },
      "source": [
        "# Dynamic Programming Approach of Finding LIS by reducing the problem to longest common Subsequence\n",
        "def lis(a):\n",
        "\tn=len(a)\n",
        "\t# Creating the sorted list\n",
        "\tb=sorted(list(set(a)))\n",
        "\tm=len(b)\n",
        "\t\n",
        "\t\n",
        "\t# Creating dp table for storing the answers of sub problems\n",
        "\tdp=[[-1 for i in range(m+1)] for j in range(n+1)]\n",
        "\t\n",
        "\t# Finding Longest common Subsequence of the two arrays\n",
        "\tfor i in range(n+1):\n",
        "\t\t\t\n",
        "\t\tfor j in range(m+1):\n",
        "\t\t\tif i==0 or j==0:\n",
        "\t\t\t\tdp[i][j]=0\n",
        "\t\t\telif a[i-1]==b[j-1]:\n",
        "\t\t\t\tdp[i][j]=1+dp[i-1][j-1]\n",
        "\t\t\telse:\n",
        "\t\t\t\tdp[i][j]=max(dp[i-1][j],dp[i][j-1])\n",
        "\treturn dp[-1][-1]\n",
        "\n",
        "# Driver program to test above function\n",
        "arr = [10, 22, 9, 33, 21, 50, 41, 60]\n",
        "print(\"Length of lis is \", lis(arr))"
      ],
      "execution_count": 31,
      "outputs": [
        {
          "output_type": "stream",
          "text": [
            "Length of lis is  5\n"
          ],
          "name": "stdout"
        }
      ]
    }
  ]
}